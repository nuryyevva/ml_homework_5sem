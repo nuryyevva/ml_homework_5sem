{
 "cells": [
  {
   "cell_type": "markdown",
   "metadata": {
    "id": "mNQ-I1PUU-PH"
   },
   "source": [
    "# hw3 - ensembles"
   ]
  },
  {
   "cell_type": "markdown",
   "metadata": {
    "id": "0ENj9WzCU-SK"
   },
   "source": [
    "## 1 Подготовка данных"
   ]
  },
  {
   "cell_type": "markdown",
   "metadata": {
    "id": "_MDgqWu9U-U-"
   },
   "source": [
    "Загрузите и предобработайте данные (по своему усмотрению) из hw1"
   ]
  },
  {
   "cell_type": "code",
   "execution_count": 1,
   "metadata": {
    "id": "IbSGi7csVlYZ"
   },
   "outputs": [],
   "source": [
    "import pandas as pd\n",
    "import numpy as np\n",
    "from sklearn.model_selection import KFold\n",
    "from sklearn.preprocessing import LabelEncoder\n",
    "import category_encoders as ce\n",
    "from sklearn.preprocessing import StandardScaler\n",
    "from sklearn.model_selection import train_test_split\n",
    "from sklearn.linear_model import LinearRegression\n",
    "from sklearn.model_selection import ShuffleSplit\n",
    "from sklearn.model_selection import GridSearchCV\n",
    "\n",
    "from sklearn.naive_bayes import GaussianNB\n",
    "from sklearn.neighbors import KNeighborsRegressor\n",
    "from sklearn.linear_model import LinearRegression\n",
    "from sklearn.svm import SVR\n",
    "from sklearn.tree import DecisionTreeClassifier\n",
    "\n",
    "from sklearn.model_selection import cross_val_predict\n",
    "from sklearn.linear_model import RidgeCV\n",
    "from sklearn.ensemble import RandomForestRegressor\n",
    "from sklearn.metrics import mean_squared_error\n",
    "from sklearn.model_selection import RandomizedSearchCV\n",
    "\n",
    "from sklearn.base import BaseEstimator, ClassifierMixin, RegressorMixin\n",
    "from scipy.stats import uniform, randint\n",
    "from joblib import Parallel, delayed\n",
    "import matplotlib.pyplot as plt\n",
    "import seaborn as sns"
   ]
  },
  {
   "cell_type": "code",
   "execution_count": 2,
   "metadata": {},
   "outputs": [],
   "source": [
    "data = pd.read_csv('train_features_with_answers.csv')"
   ]
  },
  {
   "cell_type": "code",
   "execution_count": 3,
   "metadata": {},
   "outputs": [],
   "source": [
    "# Age\n",
    "median_age = np.median(data['age'].dropna())\n",
    "data.loc[(data['age'] < 15) | (data['age'] > 22), 'age'] = median_age\n",
    "data.loc[data['age'].isnull(), 'age'] = median_age\n",
    "\n",
    "# Sex\n",
    "valid_sex_values = {'F', 'M'}\n",
    "data.loc[~data['sex'].isin(valid_sex_values), 'sex'] = np.nan\n",
    "\n",
    "# Address\n",
    "most_common_address = data['address'].mode()[0]\n",
    "data.loc[data['address'].isnull(), 'address'] = most_common_address"
   ]
  },
  {
   "cell_type": "code",
   "execution_count": 4,
   "metadata": {},
   "outputs": [],
   "source": [
    "def encode_features(df, target_variable):\n",
    "    \"\"\"\n",
    "    Encodes binary features using Label Encoding and other categorical features using Target Encoding with K-fold cross-validation.\n",
    "\n",
    "    Args:\n",
    "        df: The input DataFrame.\n",
    "        target_variable: The name of the target variable column.\n",
    "\n",
    "    Returns:\n",
    "        A DataFrame with encoded features. Returns None if errors occur.\n",
    "    \"\"\"\n",
    "\n",
    "    # Identify binary and other categorical columns\n",
    "    binary_cols = [col for col in df.columns if df[col].isin(['yes', 'no']).all()]\n",
    "    other_categorical_cols = [col for col in df.select_dtypes(include=['object']).columns\n",
    "                              if col not in binary_cols and col != target_variable]\n",
    "\n",
    "    df_encoded = df.copy()\n",
    "    \n",
    "    # Label encode binary features\n",
    "    le = LabelEncoder()\n",
    "    for col in binary_cols:\n",
    "        df_encoded[col] = le.fit_transform(df_encoded[col])\n",
    "    \n",
    "    encoder = ce.TargetEncoder(cols=other_categorical_cols, handle_missing=\"return_nan\")\n",
    "\n",
    "    df_encoded[other_categorical_cols] = encoder.fit_transform(df[other_categorical_cols], df[target_variable])\n",
    "\n",
    "    return df_encoded"
   ]
  },
  {
   "cell_type": "code",
   "execution_count": 5,
   "metadata": {},
   "outputs": [],
   "source": [
    "data_encoded = encode_features(data, target_variable='G3')"
   ]
  },
  {
   "cell_type": "code",
   "execution_count": 6,
   "metadata": {},
   "outputs": [],
   "source": [
    "# scale data\n",
    "g3 = data_encoded['G3']\n",
    "data_no_g3 = data_encoded.drop('G3', axis=1)\n",
    "\n",
    "scaler = StandardScaler()\n",
    "data_scaled = scaler.fit_transform(data_no_g3)\n",
    "data_scaled_df = pd.DataFrame(data_scaled, columns=data_no_g3.columns)\n",
    "\n",
    "data_scaled = data_scaled_df.assign(G3=g3.values)"
   ]
  },
  {
   "cell_type": "code",
   "execution_count": 7,
   "metadata": {},
   "outputs": [],
   "source": [
    "# predict incorrect sex\n",
    "data_sex = data_scaled[data_scaled['sex'].notna()]\n",
    "X_sex = data_sex.drop(['sex'], axis=1)\n",
    "y_sex = data_sex['sex']\n",
    "\n",
    "X_train_sex, X_test_sex, y_train_sex, y_test_sex = train_test_split(X_sex, y_sex, test_size=0.2, random_state=42)\n",
    "\n",
    "# Initialize and train the linear regression model\n",
    "model = LinearRegression()\n",
    "model.fit(X_train_sex, y_train_sex)\n",
    "\n",
    "# Make predictions\n",
    "y_pred = model.predict(X_test_sex)\n",
    "\n",
    "X_sex = data_scaled[data_scaled['sex'].isnull()].drop(['sex'], axis=1)\n",
    "y_sex = model.predict(X_sex)\n",
    "\n",
    "data_scaled.loc[data['sex'].isnull(), 'sex'] = y_sex"
   ]
  },
  {
   "cell_type": "code",
   "execution_count": 8,
   "metadata": {},
   "outputs": [],
   "source": [
    "# validation strategy\n",
    "ss = ShuffleSplit(n_splits=10, test_size=0.2, random_state=42)"
   ]
  },
  {
   "cell_type": "code",
   "execution_count": 9,
   "metadata": {},
   "outputs": [
    {
     "data": {
      "text/html": [
       "<div>\n",
       "<style scoped>\n",
       "    .dataframe tbody tr th:only-of-type {\n",
       "        vertical-align: middle;\n",
       "    }\n",
       "\n",
       "    .dataframe tbody tr th {\n",
       "        vertical-align: top;\n",
       "    }\n",
       "\n",
       "    .dataframe thead th {\n",
       "        text-align: right;\n",
       "    }\n",
       "</style>\n",
       "<table border=\"1\" class=\"dataframe\">\n",
       "  <thead>\n",
       "    <tr style=\"text-align: right;\">\n",
       "      <th></th>\n",
       "      <th>None count</th>\n",
       "    </tr>\n",
       "  </thead>\n",
       "  <tbody>\n",
       "  </tbody>\n",
       "</table>\n",
       "</div>"
      ],
      "text/plain": [
       "Empty DataFrame\n",
       "Columns: [None count]\n",
       "Index: []"
      ]
     },
     "execution_count": 9,
     "metadata": {},
     "output_type": "execute_result"
    }
   ],
   "source": [
    "# check\n",
    "missing_values = data_scaled.isnull()\n",
    "columns_none_info = pd.DataFrame(missing_values.T.sum(axis=1))\n",
    "columns_none_info = columns_none_info.rename(columns={0: 'None count'}) \n",
    "\n",
    "columns_none_info[columns_none_info['None count'] != 0]"
   ]
  },
  {
   "cell_type": "code",
   "execution_count": 10,
   "metadata": {},
   "outputs": [],
   "source": [
    "X = data_scaled.drop('G3', axis=1)\n",
    "y = data_scaled['G3']"
   ]
  },
  {
   "cell_type": "markdown",
   "metadata": {
    "id": "Em0erMH6WyEV"
   },
   "source": [
    "## 2 Обоснуйте выбор слабых (базовых) алгоритмов"
   ]
  },
  {
   "cell_type": "markdown",
   "metadata": {
    "id": "KqC_5cbgWyML"
   },
   "source": [
    "+ GaussianNB: Быстрый и простой, особенно хорош для данных с “колоколообразным” распределением.\n",
    "+ KNeighborsClassifier: Легко понять и использовать; не требует долгого обучения.\n",
    "+ LogisticRegression: Простой, быстрый и дает вероятности принадлежности к классам.\n",
    "+ SVC: Хорошо справляется со сложными данными и меньше переобучается, чем другие.\n",
    "+ DecisionTreeClassifier: Легко понять, но может переобучиться."
   ]
  },
  {
   "cell_type": "markdown",
   "metadata": {
    "id": "R08QEdnPU-X5"
   },
   "source": [
    "## 3 Постройте решение на основе подхода Blending"
   ]
  },
  {
   "cell_type": "markdown",
   "metadata": {
    "id": "sF_TRbWxYQ8p"
   },
   "source": [
    "Правила:\n",
    "- Нужно использовать вероятности\n",
    "- Предложите что-то лучше, чем брать среднее от предсказаний моделей (оценивать уверенность алгоритмов, точности и т.д.)\n",
    "- Заставьте базовые алгоритмы быть некорелированными\n",
    "- Добавьте рандома (например, стройте ваши алгоритмы на разных выборках, по разному предобрабатывайте данные или применяйте для разных признаков соответствующие алгоритмы ... )\n",
    "- Проявите смекалку\n",
    "- Цель: метрика MSE на тесте меньше 10"
   ]
  },
  {
   "cell_type": "code",
   "execution_count": 11,
   "metadata": {
    "id": "I-Kw6bNqPUoj"
   },
   "outputs": [],
   "source": [
    "X_train, X_test, y_train, y_test = train_test_split(X, y, test_size=0.2, random_state=42)"
   ]
  },
  {
   "cell_type": "code",
   "execution_count": 12,
   "metadata": {},
   "outputs": [],
   "source": [
    "class Stacking:\n",
    "    \"\"\"\n",
    "    A stacking ensemble model that combines predictions from multiple base estimators.\n",
    "    Supports both blending (hold-out validation) and stacking (cross-validation).\n",
    "    \"\"\"\n",
    "    def __init__(self, estimators, final_estimator, blending=False, cv=5, n_jobs=-1):\n",
    "        \"\"\"\n",
    "        Initializes the Stacking object.\n",
    "\n",
    "        Args:\n",
    "            estimators: A list of base estimators.\n",
    "            final_estimator: The final estimator that combines the base estimators' predictions.\n",
    "            blending: A boolean indicating whether to use blending (True) or stacking (False). Defaults to False.\n",
    "            cv: The number of cross-validation folds to use if blending is False. Defaults to 5.\n",
    "            n_jobs: The number of jobs to run in parallel. -1 uses all processors. Defaults to -1.\n",
    "        \"\"\"\n",
    "        self.estimators = estimators\n",
    "        self.final_estimator = final_estimator\n",
    "        self.blending = blending\n",
    "        self.cv = cv\n",
    "        self.n_jobs = n_jobs\n",
    "\n",
    "    def _X_pred(self, estimator, data):\n",
    "        \"\"\"\n",
    "        Generates predictions for training data using a single base estimator.\n",
    "\n",
    "        Args:\n",
    "            estimator: The base estimator to use.\n",
    "            data: A tuple containing the training data (X_train, y_train) or (X_train, y_train, X_val) if blending is True.\n",
    "\n",
    "        Returns:\n",
    "            A NumPy array of predictions.\n",
    "        \"\"\"\n",
    "        if self.blending:\n",
    "            X_train_v, y_train_v, X_val = data\n",
    "            return estimator.fit(X_train_v, y_train_v).predict(X_val)\n",
    "        else:\n",
    "            X_train, y_train = data\n",
    "            return cross_val_predict(estimator, X_train, y_train, cv=self.cv)\n",
    "\n",
    "    def _X_test_pred(self, estimator, data):\n",
    "        \"\"\"\n",
    "        Generates predictions for test data using a single base estimator.\n",
    "\n",
    "        Args:\n",
    "            estimator: The base estimator to use.\n",
    "            data: A tuple containing the training data (X_train, y_train) and the test data (X_test).\n",
    "\n",
    "        Returns:\n",
    "            A NumPy array of predictions.\n",
    "        \"\"\"\n",
    "        X_train, y_train, X_test = data\n",
    "        return estimator.fit(X_train, y_train).predict(X_test)\n",
    "\n",
    "    def _meta_data(self, X_train, y_train, X_test):\n",
    "        \"\"\"\n",
    "        Generates the meta-features for the final estimator.\n",
    "\n",
    "        Args:\n",
    "            X_train: The training features.\n",
    "            y_train: The training target variable.\n",
    "            X_test: The test features.\n",
    "\n",
    "        Returns:\n",
    "            A tuple containing the meta-features for training (meta_X_train), \n",
    "            the training target variable (meta_y_train), and the meta-features for testing (meta_X_test).\n",
    "        \"\"\"\n",
    "        if self.blending:\n",
    "            # Use hold-out cross-validation for blending\n",
    "            X_train_v, X_val, y_train_v, y_val = train_test_split(X_train, y_train, random_state=0)\n",
    "            train_data = [X_train_v, y_train_v, X_val]\n",
    "            test_data = [X_train_v, y_train_v, X_test]\n",
    "            meta_y_train = y_val\n",
    "        else:\n",
    "            train_data = [X_train, y_train]\n",
    "            test_data = [X_train, y_train, X_test]\n",
    "            meta_y_train = y_train\n",
    "\n",
    "        cv_X_train_preds = (delayed(self._X_pred)(est, train_data) for est in self.estimators)\n",
    "        X_test_preds = (delayed(self._X_test_pred)(est, test_data) for est in self.estimators)\n",
    "\n",
    "        meta_X_train = pd.DataFrame(Parallel(n_jobs=self.n_jobs)(cv_X_train_preds))\n",
    "        meta_X_test = pd.DataFrame(Parallel(n_jobs=self.n_jobs)(X_test_preds))\n",
    "\n",
    "        return meta_X_train.T, meta_y_train, meta_X_test.T\n",
    "\n",
    "    def fit_predict(self, X_train, y_train, X_test):\n",
    "        \"\"\"\n",
    "        Fits the stacking ensemble and generates predictions on the test set.\n",
    "\n",
    "        Args:\n",
    "            X_train: The training features.\n",
    "            y_train: The training target variable.\n",
    "            X_test: The test features.\n",
    "\n",
    "        Returns:\n",
    "            A NumPy array of predictions on the test set.\n",
    "        \"\"\"\n",
    "        meta_X_train, meta_y_train, meta_X_test = self._meta_data(X_train, y_train, X_test)\n",
    "        return self.final_estimator.fit(meta_X_train, meta_y_train).predict(meta_X_test)"
   ]
  },
  {
   "cell_type": "code",
   "execution_count": 13,
   "metadata": {},
   "outputs": [
    {
     "name": "stderr",
     "output_type": "stream",
     "text": [
      "/home/nur/anaconda3/lib/python3.12/site-packages/sklearn/model_selection/_search.py:320: UserWarning: The total space of parameters 1 is smaller than n_iter=10. Running 1 iterations. For exhaustive searches, use GridSearchCV.\n",
      "  warnings.warn(\n",
      "/home/nur/anaconda3/lib/python3.12/site-packages/sklearn/model_selection/_search.py:320: UserWarning: The total space of parameters 2 is smaller than n_iter=10. Running 2 iterations. For exhaustive searches, use GridSearchCV.\n",
      "  warnings.warn(\n"
     ]
    },
    {
     "data": {
      "text/plain": [
       "[GaussianNB(),\n",
       " KNeighborsRegressor(n_neighbors=8),\n",
       " LinearRegression(),\n",
       " SVR(C=3.0584494295802447, gamma=9.709098521619943, kernel='linear'),\n",
       " RandomForestRegressor(max_depth=7, min_samples_split=16, n_estimators=116,\n",
       "                       random_state=0)]"
      ]
     },
     "execution_count": 13,
     "metadata": {},
     "output_type": "execute_result"
    }
   ],
   "source": [
    "# Add random to parameters of models\n",
    "reg_estimators = [\n",
    "    ('gnb', GaussianNB()),\n",
    "    ('knn', KNeighborsRegressor()),\n",
    "    ('lr', LinearRegression()),\n",
    "    ('svr', SVR()),\n",
    "    ('rf', RandomForestRegressor(random_state=0))\n",
    "]\n",
    "\n",
    "param_distributions = {\n",
    "    'gnb': {},\n",
    "    'knn': {'n_neighbors': randint(1, 50)},\n",
    "    'lr': {'fit_intercept': [True, False]},\n",
    "    'svr': {'C': uniform(1, 100), 'gamma': uniform(0.01, 10), 'kernel':['rbf', 'linear']},\n",
    "    'rf': {'n_estimators': randint(10, 200), 'max_depth': randint(1, 30), 'min_samples_split': randint(2,20)}\n",
    "}\n",
    "\n",
    "def random_search_estimator(estimator, X, y, param_distribution, cv=5):\n",
    "    random_search = RandomizedSearchCV(estimator, param_distributions=param_distribution, n_iter=10, scoring='neg_mean_squared_error', cv=cv, random_state=42, n_jobs=-1) # Number of iterations to run the randomized search. Adjust as needed.\n",
    "    random_search.fit(X,y)\n",
    "    best_estimator = random_search.best_estimator_\n",
    "    return best_estimator\n",
    "\n",
    "best_estimators = []\n",
    "for name, estimator in reg_estimators:\n",
    "    best_estimator = random_search_estimator(estimator, X_train, y_train, param_distributions[name], cv=ss)\n",
    "    best_estimators.append(best_estimator)\n",
    "\n",
    "best_estimators"
   ]
  },
  {
   "cell_type": "code",
   "execution_count": 14,
   "metadata": {},
   "outputs": [
    {
     "name": "stderr",
     "output_type": "stream",
     "text": [
      "/home/nur/anaconda3/lib/python3.12/site-packages/sklearn/base.py:493: UserWarning: X does not have valid feature names, but GaussianNB was fitted with feature names\n",
      "  warnings.warn(\n",
      "/home/nur/anaconda3/lib/python3.12/site-packages/sklearn/base.py:493: UserWarning: X does not have valid feature names, but KNeighborsRegressor was fitted with feature names\n",
      "  warnings.warn(\n",
      "/home/nur/anaconda3/lib/python3.12/site-packages/sklearn/base.py:493: UserWarning: X does not have valid feature names, but LinearRegression was fitted with feature names\n",
      "  warnings.warn(\n",
      "/home/nur/anaconda3/lib/python3.12/site-packages/sklearn/base.py:493: UserWarning: X does not have valid feature names, but SVR was fitted with feature names\n",
      "  warnings.warn(\n",
      "/home/nur/anaconda3/lib/python3.12/site-packages/sklearn/base.py:493: UserWarning: X does not have valid feature names, but RandomForestRegressor was fitted with feature names\n",
      "  warnings.warn(\n"
     ]
    },
    {
     "data": {
      "image/png": "[encoded data removed]",
      "text/plain": [
       "<Figure size 600x400 with 2 Axes>"
      ]
     },
     "metadata": {},
     "output_type": "display_data"
    }
   ],
   "source": [
    "data = {'Bayes': best_estimators[0].predict(X_test.values),\n",
    "        'KNN': best_estimators[1].predict(X_test.values), \n",
    "        'Linear': best_estimators[2].predict(X_test.values), \n",
    "        'SVM': best_estimators[3].predict(X_test.values), \n",
    "        'forest': best_estimators[4].predict(X_test.values)}\n",
    "df = pd.DataFrame(data)\n",
    "\n",
    "correlation_matrix = df.corr()\n",
    "\n",
    "plt.figure(figsize=(6, 4))\n",
    "sns.heatmap(correlation_matrix, annot=True, cmap='coolwarm', fmt=\".2f\")\n",
    "plt.title('Correlation Matrix of Predictions')\n",
    "plt.show()"
   ]
  },
  {
   "cell_type": "code",
   "execution_count": 15,
   "metadata": {},
   "outputs": [
    {
     "name": "stderr",
     "output_type": "stream",
     "text": [
      "/home/nur/anaconda3/lib/python3.12/site-packages/sklearn/model_selection/_split.py:776: UserWarning: The least populated class in y has only 1 members, which is less than n_splits=5.\n",
      "  warnings.warn(\n"
     ]
    },
    {
     "name": "stdout",
     "output_type": "stream",
     "text": [
      "MSE: 7.65\n"
     ]
    }
   ],
   "source": [
    "# Stacking\n",
    "stacking_reg = Stacking(estimators=best_estimators, final_estimator=RidgeCV())\n",
    "stacking_reg_pred_res = stacking_reg.fit_predict(X_train, y_train, X_test)\n",
    "\n",
    "mse = mean_squared_error(y_test, stacking_reg_pred_res)\n",
    "print(f'MSE: {np.round(mse, 2)}')"
   ]
  },
  {
   "cell_type": "markdown",
   "metadata": {
    "id": "iRmBr8VRWolP"
   },
   "source": [
    "## 4 Постройте решение на основе подхода Stacking"
   ]
  },
  {
   "cell_type": "markdown",
   "metadata": {
    "id": "5oYYsgNRasfs"
   },
   "source": [
    "Правила:\n",
    "- Реализуйте пайплайн обучения и предсказания (например, sklearn.pipeline или класс)\n",
    "- Проведите оптимизацию пайплайна\n",
    "- Оцените вклад каждого базового алгоритма в итоговое предсказание\n",
    "- Цель: метрика MSE на тесте меньше 10"
   ]
  },
  {
   "cell_type": "code",
   "execution_count": 16,
   "metadata": {
    "id": "Bc74w6f_WotV"
   },
   "outputs": [
    {
     "name": "stdout",
     "output_type": "stream",
     "text": [
      "MSE: 8.13\n"
     ]
    }
   ],
   "source": [
    "stacking_reg = Stacking(estimators=best_estimators, final_estimator=RidgeCV(), blending=True)\n",
    "stacking_reg_pred_res = stacking_reg.fit_predict(X_train, y_train, X_test)\n",
    "\n",
    "mse = mean_squared_error(y_test, stacking_reg_pred_res)\n",
    "print(f'MSE: {np.round(mse, 2)}')"
   ]
  },
  {
   "cell_type": "markdown",
   "metadata": {
    "id": "gOSFp3Y9cO4r"
   },
   "source": [
    "## * Доп задание (не обязательно, но решение будет поощряться)"
   ]
  },
  {
   "cell_type": "markdown",
   "metadata": {
    "id": "biFb-0hPcqk6"
   },
   "source": [
    "Правила:\n",
    "- Постройте несколько сильных алгоритмов разного класса (это может быть бустинг, нейросеть, ансамбль слабых алгоритмов, алгоритм на статистике, что придумаете)\n",
    "- Реализуйте \"управляющий\" алгоритм, который на основе входных данных будет выбирать, какой из  сильных алгоритмов запустить (не на основе их работы, а именно на основе данных)"
   ]
  },
  {
   "cell_type": "code",
   "execution_count": null,
   "metadata": {
    "id": "yD-jrz7CcPAo"
   },
   "outputs": [],
   "source": []
  }
 ],
 "metadata": {
  "colab": {
   "provenance": [],
   "toc_visible": true
  },
  "kernelspec": {
   "display_name": "Python 3 (ipykernel)",
   "language": "python",
   "name": "python3"
  },
  "language_info": {
   "codemirror_mode": {
    "name": "ipython",
    "version": 3
   },
   "file_extension": ".py",
   "mimetype": "text/x-python",
   "name": "python",
   "nbconvert_exporter": "python",
   "pygments_lexer": "ipython3",
   "version": "3.12.2"
  }
 },
 "nbformat": 4,
 "nbformat_minor": 4
}
